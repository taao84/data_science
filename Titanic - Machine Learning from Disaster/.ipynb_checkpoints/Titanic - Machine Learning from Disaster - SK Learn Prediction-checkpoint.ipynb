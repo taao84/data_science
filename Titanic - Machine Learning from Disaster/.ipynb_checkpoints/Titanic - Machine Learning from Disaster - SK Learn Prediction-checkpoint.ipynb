{
 "cells": [
  {
   "cell_type": "code",
   "execution_count": 12,
   "metadata": {},
   "outputs": [
    {
     "name": "stdout",
     "output_type": "stream",
     "text": [
      "('Train shape: ', (712, 12))\n"
     ]
    }
   ],
   "source": [
    "import sys\n",
    "\n",
    "import tensorflow as tf\n",
    "import numpy as np\n",
    "import matplotlib.pyplot as plt\n",
    "%matplotlib inline\n",
    "import pandas as pd\n",
    "from sklearn.model_selection import train_test_split\n",
    "\n",
    "train_data = pd.read_csv(\"data/train_final.csv\")\n",
    "epochStep = 5\n",
    "\n",
    "print('Train shape: ', train_data.shape)\n",
    "\n",
    "#train_data.head(10)\n",
    "X_columns = train_data.columns[1:len(train_data.columns)]\n",
    "y_columns = train_data.columns[0]\n"
   ]
  },
  {
   "cell_type": "code",
   "execution_count": 46,
   "metadata": {},
   "outputs": [
    {
     "name": "stdout",
     "output_type": "stream",
     "text": [
      "('Epochs: ', [5, 10, 15, 20, 25, 30, 35, 40, 45, 50, 55, 60, 65, 70, 75, 80, 85, 90, 95])\n",
      "('Batch ranges: ', [100, 200, 300, 400, 500, 600, 700])\n",
      "Training %:  5 . . . . . . . . . . . . . . . . . . . . . . . . . . . . . . . . . . . . . . . . . . . . . . . . . . \n",
      "Training %:  10 . . . . . . . . . . . . . . . . . . . . . . . . . . . . . . . . . . . . . . . . . . . . . . . . . . \n",
      "Training %:  15 . . . . . . . . . . . . . . . . . . . . . . . . . . . . . . . . . . . . . . . . . . . . . . . . . . \n",
      "Training %:  20 . . . . . . . . . . . . . . . . . . . . . . . . . . . . . . . . . . . . . . . . . . . . . . . . . . \n",
      "Training %:  25 . . . . . . . . . . . . . . . . . . . . . . . . . . . . . . . . . . . . . . . . . . . . . . . . . . \n",
      "Training %:  30 . . . . . . . . . . . . . . . . . . . . . . . . . . . . . . . . . . . . . . . . . . . . . . . . . . \n",
      "Training %:  35 . . . . . . . . . . . . . . . . . . . . . . . . . . . . . . . . . . . . . . . . . . . . . . . . . . \n",
      "Training %:  40 . . . . . . . . . . . . . . . . . . . . . . . . . . . . . . . . . . . . . . . . . . . . . . . . . . \n",
      "Training %:  45 . . . . . . . . . . . . . . . . . . . . . . . . . . . . . . . . . . . . . . . . . . . . . . . . . . \n",
      "Training %:  50 . . . . . . . . . . . . . . . . . . . . . . . . . . . . . . . . . . . . . . . . . . . . . . . . . . \n",
      "Training %:  55 . . . . . . . . . . . . . . . . . . . . . . . . . . . . . . . . . . . . . . . . . . . . . . . . . . \n",
      "Training %:  60 . . . . . . . . . . . . . . . . . . . . . . . . . . . . . . . . . . . . . . . . . . . . . . . . . . \n",
      "Training %:  65 . . . . . . . . . . . . . . . . . . . . . . . . . . . . . . . . . . . . . . . . . . . . . . . . . . \n",
      "Training %:  70 . . . . . . . . . . . . . . . . . . . . . . . . . . . . . . . . . . . . . . . . . . . . . . . . . . \n",
      "Training %:  75 . . . . . . . . . . . . . . . . . . . . . . . . . . . . . . . . . . . . . . . . . . . . . . . . . . \n",
      "Training %:  80 . . . . . . . . . . . . . . . . . . . . . . . . . . . . . . . . . . . . . . . . . . . . . . . . . . \n",
      "Training %:  85 . . . . . . . . . . . . . . . . . . . . . . . . . . . . . . . . . . . . . . . . . . . . . . . . . . \n",
      "Training %:  90 . . . . . . . . . . . . . . . . . . . . . . . . . . . . . . . . . . . . . . . . . . . . . . . . . . \n",
      "Training %:  95 . . . . . . . . . . . . . . . . . . . . . . . . . . . . . . . . . . . . . . . . . . . . . . . . . . \n",
      "Optimization finished\n"
     ]
    }
   ],
   "source": [
    "from sklearn.linear_model import LinearRegression\n",
    "from sklearn.linear_model import LogisticRegression\n",
    "from sklearn.svm import SVC\n",
    "from sklearn.tree import DecisionTreeClassifier\n",
    "from sklearn.ensemble import RandomForestClassifier\n",
    "from sklearn.model_selection import train_test_split\n",
    "\n",
    "epochs = range(5, 100, epochStep)\n",
    "batch_ranges = range(100, train_data.shape[0], 100)\n",
    "\n",
    "print (\"Epochs: \", epochs)\n",
    "print (\"Batch ranges: \", batch_ranges)\n",
    "\n",
    "# LinearRegression\n",
    "#estimator = LinearRegression(fit_intercept=True, normalize=True) # Last train score:  0.4066857234374636  - Last test score:  0.33329329837064864\n",
    "\n",
    "# LogisticRegression\n",
    "#estimator = LogisticRegression(fit_intercept=True) # Last train score:  0.8060599877576003  - Last test score:  0.7739463601532567\n",
    "\n",
    "#  Support Vector Machine\n",
    "estimator = SVC(gamma=0.05, probability=False) # Last train score:  0.8609467455621302  - Last test score:  0.8055555555555556\n",
    "# estimator = SVC(gamma=10, probability=False) overfits the Train and performs really bad in Test\n",
    "\n",
    "# RandomForestClassifier\n",
    "#estimator = RandomForestClassifier(n_estimators=40) # Last train score:  0.983983837437414  - Last test score:  0.9700680272108845\n",
    "\n",
    "epochTrainEstimatorScoresHistory = []\n",
    "epochTestEstimatorScoresHistory = []\n",
    "for i in epochs:\n",
    "    batchStart = 0\n",
    "    batchTrainEstimatorScoresHistory = []\n",
    "    batchTestEstimatorScoresHistory = []\n",
    "    print \"Training %: \", i, \n",
    "    for j in range(0,50):\n",
    "        print \".\",\n",
    "        trainSize = (i/100.0)\n",
    "        # Split the data randomly\n",
    "        X_train, X_test, y_train, y_test = train_test_split(train_data[X_columns], \n",
    "                                                            train_data[y_columns],\n",
    "                                                            train_size=trainSize,\n",
    "                                                           shuffle=True)\n",
    "        \n",
    "        # Fit the model with the Train dataset\n",
    "        estimator.fit(X_train, y_train)\n",
    "    \n",
    "        # Calculates the estimated error of the already trained model in the train dataset and in the test dataset\n",
    "        train_score = estimator.score(X_train, y_train)\n",
    "        test_score = estimator.score(X_test, y_test)\n",
    "        \n",
    "        batchTrainEstimatorScoresHistory.append(train_score)\n",
    "        batchTestEstimatorScoresHistory.append(test_score)\n",
    "    \n",
    "    print \"\"\n",
    "    \n",
    "    epochTrainEstimatorScoresHistory.append(batchTrainEstimatorScoresHistory)\n",
    "    epochTestEstimatorScoresHistory.append(batchTestEstimatorScoresHistory)\n",
    "\n",
    "print \"Optimization finished\""
   ]
  },
  {
   "cell_type": "code",
   "execution_count": 48,
   "metadata": {},
   "outputs": [
    {
     "name": "stdout",
     "output_type": "stream",
     "text": [
      "Last train score:  0.8667159763313609  - Last test score:  0.733888888888889\n"
     ]
    },
    {
     "data": {
      "image/png": "[encoded data removed]",
      "text/plain": [
       "<matplotlib.figure.Figure at 0x7efe9cf69ed0>"
      ]
     },
     "metadata": {},
     "output_type": "display_data"
    },
    {
     "data": {
      "image/png": "[encoded data removed]",
      "text/plain": [
       "<matplotlib.figure.Figure at 0x7efe9c9b93d0>"
      ]
     },
     "metadata": {},
     "output_type": "display_data"
    }
   ],
   "source": [
    "meanTrainHist = np.mean(epochTrainEstimatorScoresHistory, axis=1)\n",
    "meanTestHist = np.mean(epochTestEstimatorScoresHistory, axis=1)\n",
    "\n",
    "def plotScoreHistories(xRange, meanEpochTrainEstimatorScoresHistory, meanEpochTestEstimatorScoresHistory):\n",
    "    # Create a figure instance\n",
    "    fig = plt.figure(1)\n",
    "\n",
    "    # Create an axes instance\n",
    "    ax = fig.add_subplot(1,1,1)\n",
    "\n",
    "    # Create the boxplot\n",
    "    bp = ax.plot(xRange, meanEpochTrainEstimatorScoresHistory, markevery=100, label=\"Train score\")\n",
    "    bp = ax.plot(xRange, meanEpochTestEstimatorScoresHistory, markevery=100, label=\"Test score\")\n",
    "\n",
    "    ax.set_xticklabels(np.arange(0, 100, epochStep))\n",
    "    ax.set_yticklabels(np.arange(0, 1, 0.1))\n",
    "    \n",
    "    plt.title('Accuracy metrics')\n",
    "    plt.xlabel('Train dataset % usage')\n",
    "    plt.ylabel('Accuracy values')\n",
    "    \n",
    "    plt.grid(True)\n",
    "    pass \n",
    "\n",
    "def boxPlotScoreHistories(xRange, epochTrainEstimatorScoresHistory, epochTestEstimatorScoresHistory):\n",
    "    # Create a figure instance\n",
    "    fig = plt.figure(2)\n",
    "\n",
    "    # Create an axes instance\n",
    "    ax = fig.add_subplot(1, 1, 1)\n",
    "\n",
    "    # Create the boxplot\n",
    "    bp = ax.boxplot(epochTrainEstimatorScoresHistory)\n",
    "    bp = ax.boxplot(epochTestEstimatorScoresHistory)\n",
    "    \n",
    "    ## Custom x-axis labels\n",
    "    ax.set_xticklabels(np.arange(0, len(epochTestEstimatorScoresHistory), 1))\n",
    "    \n",
    "    plt.title('Accuracy metrics')\n",
    "    plt.xlabel('Train dataset % usage')\n",
    "    plt.ylabel('Accuracy values')\n",
    "    plt.grid(True)\n",
    "    pass \n",
    "\n",
    "print \"Last train score: \", np.mean(epochTrainEstimatorScoresHistory[-1]), \n",
    "print \" - Last test score: \", np.mean(epochTestEstimatorScoresHistory[-1])\n",
    "\n",
    "plotScoreHistories(list(epochs), meanTrainHist, meanTestHist)\n",
    "boxPlotScoreHistories(list(epochs), epochTrainEstimatorScoresHistory, epochTestEstimatorScoresHistory)\n"
   ]
  },
  {
   "cell_type": "code",
   "execution_count": null,
   "metadata": {},
   "outputs": [],
   "source": [
    "# Submission Example\n",
    "submission = pd.read_csv(\"data/gender_submission.csv\")\n",
    "submission.head(10)"
   ]
  },
  {
   "cell_type": "code",
   "execution_count": null,
   "metadata": {},
   "outputs": [],
   "source": [
    "test_data = pd.read_csv(\"data/test_final.csv\")\n",
    "print ('Test shape: ', test_data.shape)"
   ]
  }
 ],
 "metadata": {
  "kernelspec": {
   "display_name": "Python 2",
   "language": "python",
   "name": "python2"
  },
  "language_info": {
   "codemirror_mode": {
    "name": "ipython",
    "version": 2
   },
   "file_extension": ".py",
   "mimetype": "text/x-python",
   "name": "python",
   "nbconvert_exporter": "python",
   "pygments_lexer": "ipython2",
   "version": "2.7.14"
  }
 },
 "nbformat": 4,
 "nbformat_minor": 2
}
