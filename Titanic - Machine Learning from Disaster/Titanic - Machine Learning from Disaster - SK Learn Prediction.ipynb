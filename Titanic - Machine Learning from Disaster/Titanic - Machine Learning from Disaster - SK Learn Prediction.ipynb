{
 "cells": [
  {
   "cell_type": "code",
   "execution_count": 168,
   "metadata": {},
   "outputs": [
    {
     "name": "stdout",
     "output_type": "stream",
     "text": [
      " ('Train shape: ', (712, 12))\n"
     ]
    }
   ],
   "source": [
    "import sys\n",
    "\n",
    "import tensorflow as tf\n",
    "import numpy as np\n",
    "import matplotlib.pyplot as plt\n",
    "%matplotlib inline\n",
    "import pandas as pd\n",
    "from sklearn.model_selection import train_test_split\n",
    "from sklearn.preprocessing import StandardScaler\n",
    "\n",
    "train_data = pd.read_csv(\"data/train_final.csv\")\n",
    "\n",
    "print('Train shape: ', train_data.shape)\n",
    "\n",
    "#train_data.head(10)\n",
    "X_columns = train_data.columns[1:len(train_data.columns)]\n",
    "y_columns = train_data.columns[0]\n",
    "\n",
    "def plotScoreHistories(xRange, meanEpochTrainEstimatorScoresHistory, meanEpochTestEstimatorScoresHistory):\n",
    "    # Create a figure instance\n",
    "    fig = plt.figure(1)\n",
    "\n",
    "    # Create an axes instance\n",
    "    ax = fig.add_subplot(1,1,1)\n",
    "\n",
    "    # Create the boxplot\n",
    "    bp = ax.plot(xRange, meanEpochTrainEstimatorScoresHistory, markevery=100, label=\"Train score\")\n",
    "    bp = ax.plot(xRange, meanEpochTestEstimatorScoresHistory, markevery=100, label=\"Test score\")\n",
    "\n",
    "    ax.set_xticklabels(np.arange(0, 100, epochStep))\n",
    "    ax.set_yticklabels(np.arange(0, 1, 0.1))\n",
    "    \n",
    "    plt.xticks(np.arange(0, 100, epochStep))\n",
    "    plt.yticks(np.arange(0, 1, 0.1))\n",
    "    \n",
    "    plt.title('Accuracy metrics')\n",
    "    plt.xlabel('Train dataset % usage')\n",
    "    plt.ylabel('Accuracy values')\n",
    "    \n",
    "    plt.grid(True)\n",
    "    pass \n",
    "\n",
    "def boxPlotScoreHistories(xRange, epochTrainEstimatorScoresHistory, epochTestEstimatorScoresHistory):\n",
    "    # Create a figure instance\n",
    "    fig = plt.figure(2)\n",
    "\n",
    "    # Create an axes instance\n",
    "    #ax = fig.add_subplot(1, 1, 1)\n",
    "    \n",
    "    colors = ['cyan', 'lightblue', 'lightgreen', 'tan', 'pink']\n",
    "    \n",
    "    # Create the boxplot\n",
    "    bp = plt.boxplot(epochTrainEstimatorScoresHistory, patch_artist=True)\n",
    "    for patch in bp['boxes']:\n",
    "        patch.set(facecolor=colors[0]) \n",
    "    \n",
    "    bp = plt.boxplot(epochTestEstimatorScoresHistory, patch_artist=True)\n",
    "    for patch in bp['boxes']:\n",
    "        patch.set(facecolor=colors[2]) \n",
    "    \n",
    "    ## Custom x-axis labels\n",
    "    #ax.set_xticklabels(np.arange(0, len(epochTestEstimatorScoresHistory), 1))\n",
    "    #plt.xticks(np.arange(0, 100, epochStep))\n",
    "    plt.yticks(np.arange(0, 1, 0.1))\n",
    "    \n",
    "    plt.title('Accuracy metrics')\n",
    "    plt.xlabel('Train dataset % usage')\n",
    "    plt.ylabel('Accuracy values')\n",
    "    plt.grid(True)\n",
    "    pass "
   ]
  },
  {
   "cell_type": "code",
   "execution_count": 202,
   "metadata": {},
   "outputs": [
    {
     "name": "stdout",
     "output_type": "stream",
     "text": [
      "('Epochs: ', [10, 20, 30, 40, 50, 60, 70, 80, 90])\n",
      "('Batch ranges: ', [100, 200, 300, 400, 500, 600, 700])\n",
      "Training %:  10 . . . . . . . . . . . . . . . . . . . . . . . . . . . . . . \n",
      "Training %:  20 . . . . . . . . . . . . . . . . . . . . . . . . . . . . . . \n",
      "Training %:  30 . . . . . . . . . . . . . . . . . . . . . . . . . . . . . . \n",
      "Training %:  40 . . . . . . . . . . . . . . . . . . . . . . . . . . . . . . \n",
      "Training %:  50 . . . . . . . . . . . . . . . . . . . . . . . . . . . . . . \n",
      "Training %:  60 . . . . . . . . . . . . . . . . . . . . . . . . . . . . . . \n",
      "Training %:  70 . . . . . . . . . . . . . . . . . . . . . . . . . . . . . . \n",
      "Training %:  80 . . . . . . . . . . . . . . . . . . . . . . . . . . . . . . \n",
      "Training %:  90 . . . . . . . . . . . . . . . . . . . . . . . . . . . . . . \n",
      "Optimization finished\n"
     ]
    }
   ],
   "source": [
    "from sklearn.linear_model import LinearRegression\n",
    "from sklearn.linear_model import LogisticRegression\n",
    "from sklearn.svm import SVC\n",
    "from sklearn.tree import DecisionTreeClassifier\n",
    "from sklearn.ensemble import RandomForestClassifier\n",
    "from sklearn.model_selection import train_test_split\n",
    "\n",
    "# LinearRegression - The worse performer\n",
    "# Last train score:  0.4066857234374636  - Last test score:  0.33329329837064864\n",
    "#estimator = LinearRegression(fit_intercept=True, normalize=True) \n",
    "\n",
    "# LogisticRegression - The best performer - Score for train and test stabilizes high quickly\n",
    "# Last train score:  0.8068229166666666  - Last test score:  0.8050925925925925\n",
    "estimator = LogisticRegression(penalty = 'l2', random_state=13, C = 15, fit_intercept=True) \n",
    "\n",
    "#  Support Vector Machine - Does not generalizes well in the train dataset\n",
    "# Last train score:  0.9614644970414197  - Last test score:  0.648611111111111\n",
    "#estimator = SVC(gamma=0.25, probability=True) \n",
    "\n",
    "# RandomForestClassifier - 2nd best performer, seems to overfit the train dataset but generalizes well on the test\n",
    "# Last train score:  0.9860207100591717  - Last test score:  0.7814814814814816\n",
    "#estimator = RandomForestClassifier(n_estimators=60) \n",
    "\n",
    "epochTrainEstimatorScoresHistory = []\n",
    "epochTestEstimatorScoresHistory = []\n",
    "\n",
    "epochStep = 10\n",
    "epochs = range(10, 100, epochStep)\n",
    "batch_ranges = range(100, train_data.shape[0], 100)\n",
    "print (\"Epochs: \", epochs)\n",
    "print (\"Batch ranges: \", batch_ranges)\n",
    "sc1 = StandardScaler()\n",
    "sc2 = StandardScaler()\n",
    "for i in epochs:\n",
    "    batchStart = 0\n",
    "    batchTrainEstimatorScoresHistory = []\n",
    "    batchTestEstimatorScoresHistory = []\n",
    "    print \"Training %: \", i, \n",
    "    trainingCycles = 30\n",
    "    for j in range(0, trainingCycles):\n",
    "        print \".\",\n",
    "        trainSize = (i/100.0)\n",
    "        # Split the data randomly\n",
    "        X_train, X_test, y_train, y_test = train_test_split(train_data[X_columns], \n",
    "                                                            train_data[y_columns],\n",
    "                                                            train_size=trainSize,\n",
    "                                                           shuffle=True)\n",
    "        \n",
    "        \n",
    "        X_train_std = sc1.fit_transform(X_train)\n",
    "        X_test_std = sc1.transform(X_test)\n",
    "        \n",
    "        # Fit the model with the Train dataset\n",
    "        estimator.fit(X_train_std, y_train)\n",
    "    \n",
    "        # Calculates the estimated error of the already trained model in the train dataset and in the test dataset\n",
    "        train_score = estimator.score(X_train_std, y_train)\n",
    "        test_score = estimator.score(X_test_std, y_test)\n",
    "        \n",
    "        batchTrainEstimatorScoresHistory.append(train_score)\n",
    "        batchTestEstimatorScoresHistory.append(test_score)\n",
    "    \n",
    "    print \"\"\n",
    "    \n",
    "    epochTrainEstimatorScoresHistory.append(batchTrainEstimatorScoresHistory)\n",
    "    epochTestEstimatorScoresHistory.append(batchTestEstimatorScoresHistory)\n",
    "\n",
    "print \"Optimization finished\""
   ]
  },
  {
   "cell_type": "code",
   "execution_count": 203,
   "metadata": {},
   "outputs": [
    {
     "name": "stdout",
     "output_type": "stream",
     "text": [
      "Last train score:  0.8080208333333333  - Last test score:  0.7962962962962965\n"
     ]
    },
    {
     "data": {
      "image/png": "[encoded data removed]",
      "text/plain": [
       "<matplotlib.figure.Figure at 0x7efe9cdb0e90>"
      ]
     },
     "metadata": {},
     "output_type": "display_data"
    },
    {
     "data": {
      "image/png": "[encoded data removed]",
      "text/plain": [
       "<matplotlib.figure.Figure at 0x7efe9cdb0c50>"
      ]
     },
     "metadata": {},
     "output_type": "display_data"
    }
   ],
   "source": [
    "meanTrainHist = [np.mean(i) for i in epochTrainEstimatorScoresHistory] \n",
    "meanTestHist = [np.mean(i) for i in epochTestEstimatorScoresHistory]\n",
    "\n",
    "print \"Last train score: \", np.mean(epochTrainEstimatorScoresHistory[-1]), \n",
    "print \" - Last test score: \", np.mean(epochTestEstimatorScoresHistory[-1])\n",
    "\n",
    "# Lines Plot\n",
    "plotScoreHistories(list(epochs), meanTrainHist, meanTestHist)\n",
    "\n",
    "# Box Plot\n",
    "boxPlotScoreHistories(list(epochs), epochTrainEstimatorScoresHistory, epochTestEstimatorScoresHistory)\n"
   ]
  },
  {
   "cell_type": "code",
   "execution_count": 204,
   "metadata": {},
   "outputs": [
    {
     "data": {
      "text/html": [
       "<div>\n",
       "<style scoped>\n",
       "    .dataframe tbody tr th:only-of-type {\n",
       "        vertical-align: middle;\n",
       "    }\n",
       "\n",
       "    .dataframe tbody tr th {\n",
       "        vertical-align: top;\n",
       "    }\n",
       "\n",
       "    .dataframe thead th {\n",
       "        text-align: right;\n",
       "    }\n",
       "</style>\n",
       "<table border=\"1\" class=\"dataframe\">\n",
       "  <thead>\n",
       "    <tr style=\"text-align: right;\">\n",
       "      <th></th>\n",
       "      <th>PassengerId</th>\n",
       "      <th>Survived</th>\n",
       "    </tr>\n",
       "  </thead>\n",
       "  <tbody>\n",
       "    <tr>\n",
       "      <th>0</th>\n",
       "      <td>892</td>\n",
       "      <td>0</td>\n",
       "    </tr>\n",
       "    <tr>\n",
       "      <th>1</th>\n",
       "      <td>893</td>\n",
       "      <td>1</td>\n",
       "    </tr>\n",
       "    <tr>\n",
       "      <th>2</th>\n",
       "      <td>894</td>\n",
       "      <td>0</td>\n",
       "    </tr>\n",
       "    <tr>\n",
       "      <th>3</th>\n",
       "      <td>895</td>\n",
       "      <td>0</td>\n",
       "    </tr>\n",
       "    <tr>\n",
       "      <th>4</th>\n",
       "      <td>896</td>\n",
       "      <td>1</td>\n",
       "    </tr>\n",
       "    <tr>\n",
       "      <th>5</th>\n",
       "      <td>897</td>\n",
       "      <td>0</td>\n",
       "    </tr>\n",
       "    <tr>\n",
       "      <th>6</th>\n",
       "      <td>898</td>\n",
       "      <td>1</td>\n",
       "    </tr>\n",
       "    <tr>\n",
       "      <th>7</th>\n",
       "      <td>899</td>\n",
       "      <td>0</td>\n",
       "    </tr>\n",
       "    <tr>\n",
       "      <th>8</th>\n",
       "      <td>900</td>\n",
       "      <td>1</td>\n",
       "    </tr>\n",
       "    <tr>\n",
       "      <th>9</th>\n",
       "      <td>901</td>\n",
       "      <td>0</td>\n",
       "    </tr>\n",
       "  </tbody>\n",
       "</table>\n",
       "</div>"
      ],
      "text/plain": [
       "   PassengerId  Survived\n",
       "0          892         0\n",
       "1          893         1\n",
       "2          894         0\n",
       "3          895         0\n",
       "4          896         1\n",
       "5          897         0\n",
       "6          898         1\n",
       "7          899         0\n",
       "8          900         1\n",
       "9          901         0"
      ]
     },
     "execution_count": 204,
     "metadata": {},
     "output_type": "execute_result"
    }
   ],
   "source": [
    "# Submission Example\n",
    "submission = pd.read_csv(\"data/gender_submission.csv\")\n",
    "submission.head(10)"
   ]
  },
  {
   "cell_type": "code",
   "execution_count": 228,
   "metadata": {},
   "outputs": [
    {
     "name": "stdout",
     "output_type": "stream",
     "text": [
      "('Test shape: ', (418, 11))\n",
      "('Test Final shape: ', (331, 11))\n"
     ]
    }
   ],
   "source": [
    "test_data = pd.read_csv(\"data/test.csv\")\n",
    "test_data_final = pd.read_csv(\"data/test_final.csv\")\n",
    "print ('Test shape: ', test_data.shape)\n",
    "print ('Test Final shape: ', test_data_final.shape)\n",
    "\n",
    "predictionOnTestDataset = estimator.predict(test_data_final[X_columns])\n",
    "COLUMN_NAMES = ['PassengerId', 'Survived']\n",
    "result = pd.DataFrame(columns=COLUMN_NAMES)\n",
    "for i, j in zip (test_data['PassengerId'], predictionOnTestDataset):\n",
    "    result.loc[i] = [i, j]\n",
    "result.head(5)\n",
    "result.to_csv(\"data/kaggle_result.csv\", index=False)"
   ]
  },
  {
   "cell_type": "code",
   "execution_count": null,
   "metadata": {},
   "outputs": [],
   "source": []
  }
 ],
 "metadata": {
  "kernelspec": {
   "display_name": "Python 2",
   "language": "python",
   "name": "python2"
  },
  "language_info": {
   "codemirror_mode": {
    "name": "ipython",
    "version": 2
   },
   "file_extension": ".py",
   "mimetype": "text/x-python",
   "name": "python",
   "nbconvert_exporter": "python",
   "pygments_lexer": "ipython2",
   "version": "2.7.14"
  }
 },
 "nbformat": 4,
 "nbformat_minor": 2
}
